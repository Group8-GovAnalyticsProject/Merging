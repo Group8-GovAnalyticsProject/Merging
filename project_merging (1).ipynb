{
 "cells": [
  {
   "cell_type": "markdown",
   "metadata": {},
   "source": [
    "# Merging data in Python\n",
    "\n",
    "Now that we have all our cleaned data sets, we need to merge them together into a single file to make later regression and clusering analysis more simple. Using our unit of analysis, census tract, we can join records from each file based on a unique identifier (in this case, census tract ID). We will make use of the merge() function to inner join data.\n",
    "\n",
    "First, we must read all the cleaned data in from Github, again using the read_csv() function from the pandas library."
   ]
  },
  {
   "cell_type": "code",
   "execution_count": 6,
   "metadata": {},
   "outputs": [],
   "source": [
    "import pandas as pd\n",
    "\n",
    "home = 'https://github.com/Group8-GovAnalyticsProject/'"
   ]
  },
  {
   "cell_type": "code",
   "execution_count": 7,
   "metadata": {},
   "outputs": [],
   "source": [
    "# Reading Grace's data\n",
    "grace = home + 'GraceYoung/raw/main/'\n",
    "\n",
    "covid_pre_link = grace + 'clean_covid_cases_pre.csv'\n",
    "covid_all_link = grace + 'clean_covid_cases_all.csv'\n",
    "med_income_link = grace + 'clean_median_income.csv'\n",
    "\n",
    "covid_pre = pd.read_csv(covid_pre_link)\n",
    "covid_all = pd.read_csv(covid_all_link)\n",
    "med_inc = pd.read_csv(med_income_link)"
   ]
  },
  {
   "cell_type": "code",
   "execution_count": 8,
   "metadata": {},
   "outputs": [],
   "source": [
    "# Reading Zoe's data\n",
    "zoe = home + 'ZoeDong/raw/main/'\n",
    "\n",
    "med_age_link = zoe + 'CleanedData_Zoe.csv'\n",
    "\n",
    "med_age = pd.read_csv(med_age_link)"
   ]
  },
  {
   "cell_type": "code",
   "execution_count": 9,
   "metadata": {},
   "outputs": [],
   "source": [
    "# Reading Haoyu's data\n",
    "haoyu = home + 'HaoyuYue/raw/master/'\n",
    "\n",
    "park_visit_19_link = haoyu + 'visiting_2019_4_WA_cleaned.csv'\n",
    "park_visit_20_link = haoyu + 'visiting_2020_4_WA_cleaned.csv'\n",
    "\n",
    "visit_19 = pd.read_csv(park_visit_19_link)\n",
    "visit_20 = pd.read_csv(park_visit_20_link)"
   ]
  },
  {
   "cell_type": "markdown",
   "metadata": {},
   "source": [
    "### Merging\n",
    "\n",
    "We will have to merge datasets one at a time but the order doesn't matter. The merge() function is called on a dataframe (which becomes the 'left' dataframe), and requires another dataframe passed inside the function ('right' dataframe) that it will merge with. \n",
    "\n",
    "Additionally, you must specify which column to use for matching records between the two data frames. In this case, all our cleaned data has census tract id stored in a column called 'tract_id' which makes merging simple. However, if the columns had slightly different names, you could specify using left_on and right_on.\n",
    "\n",
    "The final specification is the join type. We chose to use an inner join which preserves records with IDs that appear in both dataframes. This will ultimately create a dataframe with no missing values, which is favorable for future analysis.\n",
    "\n",
    "One additional detail is helpful when adding park visitor data because the columns have the same names but we want to differentiate by year. This is accomplished using by passing a list argument to suffixes where the first string will be appended to column names from the left dataframe, and the second string will be appended to the right dataframe."
   ]
  },
  {
   "cell_type": "code",
   "execution_count": 11,
   "metadata": {},
   "outputs": [
    {
     "data": {
      "text/html": [
       "<div>\n",
       "<style scoped>\n",
       "    .dataframe tbody tr th:only-of-type {\n",
       "        vertical-align: middle;\n",
       "    }\n",
       "\n",
       "    .dataframe tbody tr th {\n",
       "        vertical-align: top;\n",
       "    }\n",
       "\n",
       "    .dataframe thead th {\n",
       "        text-align: right;\n",
       "    }\n",
       "</style>\n",
       "<table border=\"1\" class=\"dataframe\">\n",
       "  <thead>\n",
       "    <tr style=\"text-align: right;\">\n",
       "      <th></th>\n",
       "      <th>tract_id</th>\n",
       "      <th>precount_positive</th>\n",
       "      <th>all_positive</th>\n",
       "      <th>median_hhold_inc</th>\n",
       "      <th>median_age</th>\n",
       "      <th>week_19</th>\n",
       "      <th>count_19</th>\n",
       "      <th>week_20</th>\n",
       "      <th>count_20</th>\n",
       "    </tr>\n",
       "  </thead>\n",
       "  <tbody>\n",
       "    <tr>\n",
       "      <th>0</th>\n",
       "      <td>53033000100</td>\n",
       "      <td>20</td>\n",
       "      <td>217</td>\n",
       "      <td>55143.0</td>\n",
       "      <td>34.9</td>\n",
       "      <td>2019/4/29</td>\n",
       "      <td>138</td>\n",
       "      <td>2020/4/27</td>\n",
       "      <td>50</td>\n",
       "    </tr>\n",
       "    <tr>\n",
       "      <th>1</th>\n",
       "      <td>53033000200</td>\n",
       "      <td>35</td>\n",
       "      <td>191</td>\n",
       "      <td>77463.0</td>\n",
       "      <td>38.1</td>\n",
       "      <td>2019/4/29</td>\n",
       "      <td>89</td>\n",
       "      <td>2020/4/27</td>\n",
       "      <td>33</td>\n",
       "    </tr>\n",
       "    <tr>\n",
       "      <th>2</th>\n",
       "      <td>53033000300</td>\n",
       "      <td>9</td>\n",
       "      <td>67</td>\n",
       "      <td>100917.0</td>\n",
       "      <td>36.4</td>\n",
       "      <td>2019/4/29</td>\n",
       "      <td>40</td>\n",
       "      <td>2020/4/27</td>\n",
       "      <td>24</td>\n",
       "    </tr>\n",
       "    <tr>\n",
       "      <th>3</th>\n",
       "      <td>53033000401</td>\n",
       "      <td>25</td>\n",
       "      <td>135</td>\n",
       "      <td>32877.0</td>\n",
       "      <td>46.2</td>\n",
       "      <td>2019/4/29</td>\n",
       "      <td>69</td>\n",
       "      <td>2020/4/27</td>\n",
       "      <td>32</td>\n",
       "    </tr>\n",
       "    <tr>\n",
       "      <th>4</th>\n",
       "      <td>53033000402</td>\n",
       "      <td>20</td>\n",
       "      <td>126</td>\n",
       "      <td>72150.0</td>\n",
       "      <td>44.0</td>\n",
       "      <td>2019/4/29</td>\n",
       "      <td>64</td>\n",
       "      <td>2020/4/27</td>\n",
       "      <td>17</td>\n",
       "    </tr>\n",
       "  </tbody>\n",
       "</table>\n",
       "</div>"
      ],
      "text/plain": [
       "      tract_id  precount_positive  all_positive  median_hhold_inc median_age  \\\n",
       "0  53033000100                 20           217           55143.0       34.9   \n",
       "1  53033000200                 35           191           77463.0       38.1   \n",
       "2  53033000300                  9            67          100917.0       36.4   \n",
       "3  53033000401                 25           135           32877.0       46.2   \n",
       "4  53033000402                 20           126           72150.0       44.0   \n",
       "\n",
       "     week_19  count_19    week_20  count_20  \n",
       "0  2019/4/29       138  2020/4/27        50  \n",
       "1  2019/4/29        89  2020/4/27        33  \n",
       "2  2019/4/29        40  2020/4/27        24  \n",
       "3  2019/4/29        69  2020/4/27        32  \n",
       "4  2019/4/29        64  2020/4/27        17  "
      ]
     },
     "execution_count": 11,
     "metadata": {},
     "output_type": "execute_result"
    }
   ],
   "source": [
    "# COVID sets\n",
    "join_1 = covid_pre.merge(covid_all, on='tract_id', how='inner')\n",
    "join_1.head()\n",
    "\n",
    "# adding median income\n",
    "join_2 = join_1.merge(med_inc, on='tract_id', how='inner')\n",
    "join_2.head()\n",
    "\n",
    "# adding median age\n",
    "join_3 = join_2.merge(med_age, on='tract_id', how='inner')\n",
    "join_3.head()\n",
    "\n",
    "# adding 2019 park visitors\n",
    "join_4 = join_3.merge(visit_19, on='tract_id', how='inner')\n",
    "\n",
    "# adding 2020 park visitors\n",
    "final = join_4.merge(visit_20, on='tract_id', how='inner', suffixes=('_19', '_20'))\n",
    "\n",
    "final.head()"
   ]
  },
  {
   "cell_type": "markdown",
   "metadata": {},
   "source": [
    "### Exporting\n",
    "\n",
    "Now that we have merged all our data into a single file, it's time to save it as a csv to pass off for future analysis."
   ]
  },
  {
   "cell_type": "code",
   "execution_count": 12,
   "metadata": {},
   "outputs": [],
   "source": [
    "final.to_csv('final_merged_data.csv', index=False)"
   ]
  }
 ],
 "metadata": {
  "kernelspec": {
   "display_name": "Python 3",
   "language": "python",
   "name": "python3"
  },
  "language_info": {
   "codemirror_mode": {
    "name": "ipython",
    "version": 3
   },
   "file_extension": ".py",
   "mimetype": "text/x-python",
   "name": "python",
   "nbconvert_exporter": "python",
   "pygments_lexer": "ipython3",
   "version": "3.8.5"
  }
 },
 "nbformat": 4,
 "nbformat_minor": 4
}
